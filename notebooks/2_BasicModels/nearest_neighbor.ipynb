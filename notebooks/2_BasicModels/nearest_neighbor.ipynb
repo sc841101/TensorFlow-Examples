{
 "cells": [
  {
   "cell_type": "code",
   "execution_count": null,
   "metadata": {
    "collapsed": true
   },
   "outputs": [],
   "source": [
    "# A nearest neighbor learning algorithm example using TensorFlow library.\n",
    "# This example is using the MNIST database of handwritten digits\n",
    "# (http://yann.lecun.com/exdb/mnist/)\n",
    "\n",
    "# Author: Aymeric Damien\n",
    "# Project: https://github.com/aymericdamien/TensorFlow-Examples/"
   ]
  },
  {
   "cell_type": "code",
   "execution_count": 3,
   "metadata": {
    "collapsed": false
   },
   "outputs": [
    {
     "name": "stdout",
     "output_type": "stream",
     "text": [
      "('Extracting', '/home/chengming/TensorFlow-Examples/data/train-images-idx3-ubyte.gz')\n",
      "('Extracting', '/home/chengming/TensorFlow-Examples/data/train-labels-idx1-ubyte.gz')\n",
      "('Extracting', '/home/chengming/TensorFlow-Examples/data/t10k-images-idx3-ubyte.gz')\n",
      "('Extracting', '/home/chengming/TensorFlow-Examples/data/t10k-labels-idx1-ubyte.gz')\n",
      "(55000, 784)\n",
      "(55000, 10) \t[ 0.  0.  0.  0.  0.  0.] [ 0.  1.  0.  0.]\n",
      "(10000, 784)\n",
      "(10000, 10) \t[ 0.  0.  0.  0.  0.  0.  0.  1.  0.  0.]\n"
     ]
    }
   ],
   "source": [
    "import numpy as np\n",
    "import tensorflow as tf\n",
    "import read_mnist_data as rmd\n",
    "\n",
    "# read dataset from disk\n",
    "DATA_FOLDER = '/home/chengming/TensorFlow-Examples/data/'\n",
    "TRAIN_IMAGES_SET = 'train-images-idx3-ubyte.gz'\n",
    "TRAIN_LABELS_SET = 'train-labels-idx1-ubyte.gz'\n",
    "TEST_IMAGES_SET = 't10k-images-idx3-ubyte.gz'\n",
    "TEST_LABELS_SET = 't10k-labels-idx1-ubyte.gz'\n",
    "validation_size = 5000\n",
    "with open(DATA_FOLDER + TRAIN_IMAGES_SET, 'rb') as f:\n",
    "    train_images = rmd.extract_images(f)\n",
    "with open(DATA_FOLDER + TRAIN_LABELS_SET, 'rb') as f:\n",
    "    train_labels = rmd.extract_labels(f, one_hot = True)\n",
    "with open(DATA_FOLDER + TEST_IMAGES_SET, 'rb') as f:\n",
    "    test_images = rmd.extract_images(f)\n",
    "with open(DATA_FOLDER + TEST_LABELS_SET, 'rb') as f:\n",
    "    test_labels = rmd.extract_labels(f, one_hot = True)\n",
    "validation_images = train_images[:validation_size]\n",
    "validation_labels = train_labels[:validation_size]\n",
    "train_images = train_images[validation_size:]\n",
    "train_labels = train_labels[validation_size:]\n",
    "\n",
    "train_shape = train_images.shape\n",
    "test_shape = test_images.shape\n",
    "train_images = train_images.reshape(train_shape[0], train_shape[1]*train_shape[2])\n",
    "test_images = test_images.reshape(test_shape[0], test_shape[1]*test_shape[2])\n",
    "\n",
    "\n",
    "print train_images.shape\n",
    "print train_labels.shape, '\\t', train_labels[0][:6], train_labels[0][6:]\n",
    "print test_images.shape\n",
    "print test_labels.shape, '\\t', test_labels[0]\n",
    "# Import MINST data\n",
    "#from tensorflow.examples.tutorials.mnist import input_data\n",
    "#mnist = input_data.read_data_sets(\"/home/chengming/TensorFlow-Examples/data/\", one_hot=True)"
   ]
  },
  {
   "cell_type": "code",
   "execution_count": 35,
   "metadata": {
    "collapsed": false
   },
   "outputs": [
    {
     "name": "stdout",
     "output_type": "stream",
     "text": [
      "Test 0 Prediction: 48843 7 True Class: 7\n",
      "Test 1 Prediction: 23882 2 True Class: 2\n",
      "Test 2 Prediction: 53741 1 True Class: 1\n",
      "Test 3 Prediction: 54244 0 True Class: 0\n",
      "Test 4 Prediction: 47920 4 True Class: 4\n",
      "Test 5 Prediction: 46900 1 True Class: 1\n",
      "Test 6 Prediction: 13279 4 True Class: 4\n",
      "Test 7 Prediction: 36982 9 True Class: 9\n",
      "Test 8 Prediction: 30628 5 True Class: 5\n",
      "Test 9 Prediction: 44 9 True Class: 9\n",
      "Test 10 Prediction: 9092 0 True Class: 0\n",
      "Test 11 Prediction: 53259 6 True Class: 6\n",
      "Test 12 Prediction: 50441 9 True Class: 9\n",
      "Test 13 Prediction: 19676 0 True Class: 0\n",
      "Test 14 Prediction: 42502 1 True Class: 1\n",
      "Test 15 Prediction: 13418 5 True Class: 5\n",
      "Test 16 Prediction: 20215 9 True Class: 9\n",
      "Test 17 Prediction: 48483 7 True Class: 7\n",
      "Test 18 Prediction: 24246 3 True Class: 3\n",
      "Test 19 Prediction: 50328 4 True Class: 4\n",
      "Test 20 Prediction: 17855 9 True Class: 9\n",
      "Test 21 Prediction: 13430 6 True Class: 6\n",
      "Test 22 Prediction: 6226 6 True Class: 6\n",
      "Test 23 Prediction: 31015 5 True Class: 5\n",
      "Test 24 Prediction: 26322 4 True Class: 4\n",
      "Test 25 Prediction: 23203 0 True Class: 0\n",
      "Test 26 Prediction: 16662 7 True Class: 7\n",
      "Test 27 Prediction: 46 4 True Class: 4\n",
      "Test 28 Prediction: 51318 0 True Class: 0\n",
      "Test 29 Prediction: 45023 1 True Class: 1\n",
      "Test 30 Prediction: 3230 3 True Class: 3\n",
      "Test 31 Prediction: 21968 1 True Class: 1\n",
      "Test 32 Prediction: 46142 3 True Class: 3\n",
      "Test 33 Prediction: 11572 4 True Class: 4\n",
      "Test 34 Prediction: 14153 7 True Class: 7\n",
      "Test 35 Prediction: 1605 2 True Class: 2\n",
      "Test 36 Prediction: 22373 7 True Class: 7\n",
      "Test 37 Prediction: 20600 1 True Class: 1\n",
      "Test 38 Prediction: 44614 2 True Class: 2\n",
      "Test 39 Prediction: 9169 1 True Class: 1\n",
      "Test 40 Prediction: 21268 1 True Class: 1\n",
      "Test 41 Prediction: 26187 7 True Class: 7\n",
      "Test 42 Prediction: 30590 4 True Class: 4\n",
      "Test 43 Prediction: 33415 1 True Class: 2\n",
      "Test 44 Prediction: 13325 3 True Class: 3\n",
      "Test 45 Prediction: 45263 5 True Class: 5\n",
      "Test 46 Prediction: 39418 1 True Class: 1\n",
      "Test 47 Prediction: 26658 2 True Class: 2\n",
      "Test 48 Prediction: 2526 4 True Class: 4\n",
      "Test 49 Prediction: 366 4 True Class: 4\n",
      "Test 50 Prediction: 29535 6 True Class: 6\n",
      "Test 51 Prediction: 10090 3 True Class: 3\n",
      "Test 52 Prediction: 22593 5 True Class: 5\n",
      "Test 53 Prediction: 16016 5 True Class: 5\n",
      "Test 54 Prediction: 44838 6 True Class: 6\n",
      "Test 55 Prediction: 40589 0 True Class: 0\n",
      "Test 56 Prediction: 28952 4 True Class: 4\n",
      "Test 57 Prediction: 14510 1 True Class: 1\n",
      "Test 58 Prediction: 6527 9 True Class: 9\n",
      "Test 59 Prediction: 1026 5 True Class: 5\n",
      "Test 60 Prediction: 22054 7 True Class: 7\n",
      "Test 61 Prediction: 3067 8 True Class: 8\n",
      "Test 62 Prediction: 37668 9 True Class: 9\n",
      "Test 63 Prediction: 396 3 True Class: 3\n",
      "Test 64 Prediction: 12483 7 True Class: 7\n",
      "Test 65 Prediction: 50240 9 True Class: 4\n",
      "Test 66 Prediction: 6386 6 True Class: 6\n",
      "Test 67 Prediction: 39528 4 True Class: 4\n",
      "Test 68 Prediction: 52680 3 True Class: 3\n",
      "Test 69 Prediction: 10492 0 True Class: 0\n",
      "Test 70 Prediction: 31003 7 True Class: 7\n",
      "Test 71 Prediction: 40544 0 True Class: 0\n",
      "Test 72 Prediction: 49052 2 True Class: 2\n",
      "Test 73 Prediction: 46145 9 True Class: 9\n",
      "Test 74 Prediction: 29261 1 True Class: 1\n",
      "Test 75 Prediction: 51932 7 True Class: 7\n",
      "Test 76 Prediction: 16018 3 True Class: 3\n",
      "Test 77 Prediction: 25690 2 True Class: 2\n",
      "Test 78 Prediction: 37696 9 True Class: 9\n",
      "Test 79 Prediction: 51167 7 True Class: 7\n",
      "Test 80 Prediction: 40594 7 True Class: 7\n",
      "Test 81 Prediction: 50096 6 True Class: 6\n",
      "Test 82 Prediction: 54499 2 True Class: 2\n",
      "Test 83 Prediction: 21091 7 True Class: 7\n",
      "Test 84 Prediction: 29376 8 True Class: 8\n",
      "Test 85 Prediction: 18999 4 True Class: 4\n",
      "Test 86 Prediction: 38645 7 True Class: 7\n",
      "Test 87 Prediction: 18517 3 True Class: 3\n",
      "Test 88 Prediction: 36039 6 True Class: 6\n",
      "Test 89 Prediction: 24451 1 True Class: 1\n",
      "Test 90 Prediction: 54119 3 True Class: 3\n",
      "Test 91 Prediction: 51568 6 True Class: 6\n",
      "Test 92 Prediction: 22731 9 True Class: 9\n",
      "Test 93 Prediction: 32163 3 True Class: 3\n",
      "Test 94 Prediction: 54364 1 True Class: 1\n",
      "Test 95 Prediction: 39124 4 True Class: 4\n",
      "Test 96 Prediction: 35352 1 True Class: 1\n",
      "Test 97 Prediction: 45992 7 True Class: 7\n",
      "Test 98 Prediction: 47504 6 True Class: 6\n",
      "Test 99 Prediction: 18447 9 True Class: 9\n",
      "Done!\n",
      "Accuracy: 0.98\n"
     ]
    }
   ],
   "source": [
    "xtr = tf.placeholder(\"float32\")#, [None, 784])\n",
    "xte = tf.placeholder(\"float32\")#, [784])\n",
    "\n",
    "# Nearest Neighbor calculation using L1 Distance\n",
    "# Calculate L1 Distance\n",
    "distance = tf.reduce_sum(tf.abs(tf.add(xtr, tf.neg(xte))), reduction_indices=1)\n",
    "# Prediction: Get min distance index (Nearest neighbor)\n",
    "pred = tf.arg_min(distance, 0)\n",
    "accuracy = 0.\n",
    "\n",
    "# set GPU memory usage\n",
    "gpu_options = tf.GPUOptions(per_process_gpu_memory_fraction=0.333)\n",
    "\n",
    "with tf.Session(config=tf.ConfigProto(gpu_options=gpu_options)) as sess:\n",
    "    # loop over test data\n",
    "    for i in range(100):\n",
    "        # Get nearest neighbor\n",
    "        nn_index = sess.run(pred, feed_dict={xtr: train_images, xte: test_images[i,:]})\n",
    "        # Get nearest neighbor class label and compare it to its true label\n",
    "        print \"Test\", i, \"Prediction:\", nn_index, np.argmax(train_labels[nn_index]), \\\n",
    "            \"True Class:\", np.argmax(test_labels[i])\n",
    "        # Calculate accuracy\n",
    "        if np.argmax(train_labels[nn_index]) == np.argmax(test_labels[i]):\n",
    "            accuracy += 1./100\n",
    "    print \"Done!\"\n",
    "    print \"Accuracy:\", accuracy"
   ]
  },
  {
   "cell_type": "code",
   "execution_count": 17,
   "metadata": {
    "collapsed": false
   },
   "outputs": [
    {
     "name": "stdout",
     "output_type": "stream",
     "text": [
      "(3, 3) (1, 3)\n",
      "[[ 0.  0.  0.]\n",
      " [ 3.  3.  3.]\n",
      " [ 6.  6.  6.]]\n"
     ]
    }
   ],
   "source": [
    "# test\n",
    "a = np.array([[1,2,3],[4,5,6],[7,8,9]])\n",
    "b = np.array([[1,2,3]])\n",
    "print a.shape, b.shape\n",
    "a_in = tf.placeholder(\"float32\", [3,3])\n",
    "b_in = tf.placeholder(\"float32\", [1,3])\n",
    "out = tf.add(a_in, tf.neg(b_in))\n",
    "# set GPU memory usage\n",
    "gpu_options = tf.GPUOptions(per_process_gpu_memory_fraction=0.333)\n",
    "with tf.Session(config=tf.ConfigProto(gpu_options=gpu_options)) as sess:\n",
    "    result = sess.run(out, feed_dict={a_in: a, b_in: b})\n",
    "print result\n"
   ]
  },
  {
   "cell_type": "code",
   "execution_count": null,
   "metadata": {
    "collapsed": false
   },
   "outputs": [],
   "source": [
    "### original version\n",
    "\n",
    "# tf Graph Input\n",
    "Xtrain = tf.placeholder(\"float\", [None, 784])\n",
    "Xtest = tf.placeholder(\"float\", [784])\n",
    "print Xtrain, '\\n', Xtest"
   ]
  },
  {
   "cell_type": "code",
   "execution_count": null,
   "metadata": {
    "collapsed": false
   },
   "outputs": [],
   "source": [
    "### original version\n",
    "\n",
    "# Nearest Neighbor calculation using L1 Distance\n",
    "# Calculate L1 Distance\n",
    "distance = tf.reduce_sum(tf.abs(tf.add(xtr, tf.neg(xte))), reduction_indices=1)\n",
    "# Prediction: Get min distance index (Nearest neighbor)\n",
    "pred = tf.arg_min(distance, 0)\n",
    "\n",
    "accuracy = 0.\n",
    "\n",
    "# Initializing the variables\n",
    "init = tf.initialize_all_variables()"
   ]
  },
  {
   "cell_type": "code",
   "execution_count": null,
   "metadata": {
    "collapsed": false
   },
   "outputs": [],
   "source": [
    "### original version\n",
    "\n",
    "# Launch the graph\n",
    "with tf.Session() as sess:\n",
    "    sess.run(init)\n",
    "\n",
    "    # loop over test data\n",
    "    for i in range(len(Xte)):\n",
    "        # Get nearest neighbor\n",
    "        nn_index = sess.run(pred, feed_dict={xtr: Xtr, xte: Xte[i, :]})\n",
    "        # Get nearest neighbor class label and compare it to its true label\n",
    "        print \"Test\", i, \"Prediction:\", np.argmax(Ytr[nn_index]), \\\n",
    "            \"True Class:\", np.argmax(Yte[i])\n",
    "        # Calculate accuracy\n",
    "        if np.argmax(Ytr[nn_index]) == np.argmax(Yte[i]):\n",
    "            accuracy += 1./len(Xte)\n",
    "    print \"Done!\"\n",
    "    print \"Accuracy:\", accuracy"
   ]
  }
 ],
 "metadata": {
  "kernelspec": {
   "display_name": "Python 2",
   "language": "python",
   "name": "python2"
  },
  "language_info": {
   "codemirror_mode": {
    "name": "ipython",
    "version": 2
   },
   "file_extension": ".py",
   "mimetype": "text/x-python",
   "name": "python",
   "nbconvert_exporter": "python",
   "pygments_lexer": "ipython2",
   "version": "2.7.6"
  }
 },
 "nbformat": 4,
 "nbformat_minor": 0
}
