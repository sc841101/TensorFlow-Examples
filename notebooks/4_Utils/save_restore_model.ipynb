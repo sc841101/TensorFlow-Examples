{
 "cells": [
  {
   "cell_type": "code",
   "execution_count": null,
   "metadata": {
    "collapsed": true
   },
   "outputs": [],
   "source": [
    "'''\n",
    "Save and Restore a model using TensorFlow.\n",
    "This example is using the MNIST database of handwritten digits\n",
    "(http://yann.lecun.com/exdb/mnist/)\n",
    "\n",
    "Author: Aymeric Damien\n",
    "Project: https://github.com/aymericdamien/TensorFlow-Examples/\n",
    "'''"
   ]
  },
  {
   "cell_type": "code",
   "execution_count": 2,
   "metadata": {
    "collapsed": false
   },
   "outputs": [
    {
     "name": "stdout",
     "output_type": "stream",
     "text": [
      "('Extracting', '/home/chengming/TensorFlow-Examples/data/train-images-idx3-ubyte.gz')\n",
      "('Extracting', '/home/chengming/TensorFlow-Examples/data/train-labels-idx1-ubyte.gz')\n",
      "('Extracting', '/home/chengming/TensorFlow-Examples/data/t10k-images-idx3-ubyte.gz')\n",
      "('Extracting', '/home/chengming/TensorFlow-Examples/data/t10k-labels-idx1-ubyte.gz')\n",
      "(60000, 784)\n",
      "(60000, 10) \t[ 0.  0.  0.  0.  0.  1.] [ 0.  0.  0.  0.]\n",
      "(10000, 784)\n",
      "(10000, 10) \t[ 0.  0.  0.  0.  0.  0.  0.  1.  0.  0.]\n"
     ]
    }
   ],
   "source": [
    "import numpy as np\n",
    "import tensorflow as tf\n",
    "import read_mnist_data as rmd\n",
    "\n",
    "# read dataset from disk\n",
    "DATA_FOLDER = '/home/chengming/TensorFlow-Examples/data/'\n",
    "TRAIN_IMAGES_SET = 'train-images-idx3-ubyte.gz'\n",
    "TRAIN_LABELS_SET = 'train-labels-idx1-ubyte.gz'\n",
    "TEST_IMAGES_SET = 't10k-images-idx3-ubyte.gz'\n",
    "TEST_LABELS_SET = 't10k-labels-idx1-ubyte.gz'\n",
    "validation_size = 5000\n",
    "with open(DATA_FOLDER + TRAIN_IMAGES_SET, 'rb') as f:\n",
    "    train_images = rmd.extract_images(f)\n",
    "with open(DATA_FOLDER + TRAIN_LABELS_SET, 'rb') as f:\n",
    "    train_labels = rmd.extract_labels(f, one_hot = True)\n",
    "with open(DATA_FOLDER + TEST_IMAGES_SET, 'rb') as f:\n",
    "    test_images = rmd.extract_images(f)\n",
    "with open(DATA_FOLDER + TEST_LABELS_SET, 'rb') as f:\n",
    "    test_labels = rmd.extract_labels(f, one_hot = True)\n",
    "#validation_images = train_images[:validation_size]\n",
    "#validation_labels = train_labels[:validation_size]\n",
    "#train_images = train_images[validation_size:]\n",
    "#train_labels = train_labels[validation_size:]\n",
    "\n",
    "train_shape = train_images.shape\n",
    "test_shape = test_images.shape\n",
    "train_images = train_images.reshape(train_shape[0], train_shape[1]*train_shape[2])\n",
    "test_images = test_images.reshape(test_shape[0], test_shape[1]*test_shape[2])\n",
    "\n",
    "\n",
    "print train_images.shape\n",
    "print train_labels.shape, '\\t', train_labels[0][0:6], train_labels[0][6:]\n",
    "print test_images.shape\n",
    "print test_labels.shape, '\\t', test_labels[0]"
   ]
  },
  {
   "cell_type": "code",
   "execution_count": 8,
   "metadata": {
    "collapsed": true
   },
   "outputs": [],
   "source": [
    "# Parameters\n",
    "learning_rate = 0.001\n",
    "batch_size = 100\n",
    "display_step = 1\n",
    "model_path = \"/home/chengming/TensorFlow-Examples/notebooks/4_Utils/model.ckpt\"\n",
    "\n",
    "# Network Parameters\n",
    "n_hidden_1 = 256 # 1st layer number of features\n",
    "n_hidden_2 = 256 # 2nd layer number of features\n",
    "n_input = 784 # MNIST data input (img shape: 28*28)\n",
    "n_classes = 10 # MNIST total classes (0-9 digits)\n",
    "\n",
    "# tf Graph input\n",
    "x = tf.placeholder(\"float\", [None, n_input])\n",
    "y = tf.placeholder(\"float\", [None, n_classes])\n",
    "\n",
    "\n",
    "# Create model\n",
    "def multilayer_perceptron(x, weights, biases):\n",
    "    # Hidden layer with RELU activation\n",
    "    layer_1 = tf.add(tf.matmul(x, weights['h1']), biases['b1'])\n",
    "    layer_1 = tf.nn.relu(layer_1)\n",
    "    # Hidden layer with RELU activation\n",
    "    layer_2 = tf.add(tf.matmul(layer_1, weights['h2']), biases['b2'])\n",
    "    layer_2 = tf.nn.relu(layer_2)\n",
    "    # Output layer with linear activation\n",
    "    out_layer = tf.matmul(layer_2, weights['out']) + biases['out']\n",
    "    return out_layer\n",
    "\n",
    "# Store layers weight & bias\n",
    "weights = {\n",
    "    'h1': tf.Variable(tf.random_normal([n_input, n_hidden_1])),\n",
    "    'h2': tf.Variable(tf.random_normal([n_hidden_1, n_hidden_2])),\n",
    "    'out': tf.Variable(tf.random_normal([n_hidden_2, n_classes]))\n",
    "}\n",
    "biases = {\n",
    "    'b1': tf.Variable(tf.random_normal([n_hidden_1])),\n",
    "    'b2': tf.Variable(tf.random_normal([n_hidden_2])),\n",
    "    'out': tf.Variable(tf.random_normal([n_classes]))\n",
    "}\n",
    "\n",
    "# Construct model\n",
    "pred = multilayer_perceptron(x, weights, biases)\n",
    "\n",
    "# Define loss and optimizer\n",
    "cost = tf.reduce_mean(tf.nn.softmax_cross_entropy_with_logits(pred, y))\n",
    "optimizer = tf.train.AdamOptimizer(learning_rate=learning_rate).minimize(cost)\n",
    "\n",
    "# Initializing the variables\n",
    "init = tf.initialize_all_variables()"
   ]
  },
  {
   "cell_type": "code",
   "execution_count": 9,
   "metadata": {
    "collapsed": true
   },
   "outputs": [],
   "source": [
    "# 'Saver' op to save and restore all the variables\n",
    "# create a Saver\n",
    "saver = tf.train.Saver()"
   ]
  },
  {
   "cell_type": "code",
   "execution_count": 10,
   "metadata": {
    "collapsed": false
   },
   "outputs": [
    {
     "name": "stdout",
     "output_type": "stream",
     "text": [
      "Starting 1st session...\n",
      "Epoch: 0001 cost= 41900.840388997\n",
      "Epoch: 0002 cost= 9914.031634064\n",
      "Epoch: 0003 cost= 6266.206561165\n",
      "First Optimization Finished!\n",
      "Accuracy: 0.9166\n",
      "Model saved in file: /home/chengming/TensorFlow-Examples/notebooks/4_Utils/model.ckpt\n"
     ]
    }
   ],
   "source": [
    "# Running first session\n",
    "print \"Starting 1st session...\"\n",
    "gpu_options = tf.GPUOptions(per_process_gpu_memory_fraction=0.333)\n",
    "with tf.Session(config=tf.ConfigProto(gpu_options=gpu_options)) as sess:\n",
    "    # Initialize variables\n",
    "    sess.run(init)\n",
    "\n",
    "    # Training cycle\n",
    "    for epoch in range(3):\n",
    "        avg_cost = 0.\n",
    "        #total_batch = int(mnist.train.num_examples/batch_size)\n",
    "        total_batch = int(train_images.shape[0] / batch_size)\n",
    "        start_idx = 0\n",
    "        # Loop over all batches\n",
    "        for i in range(total_batch):\n",
    "            #batch_x, batch_y = mnist.train.next_batch(batch_size)\n",
    "            batch_x = train_images[start_idx:start_idx+batch_size, :]\n",
    "            batch_y = train_labels[start_idx:start_idx+batch_size, :]\n",
    "            start_idx += batch_size\n",
    "            # Run optimization op (backprop) and cost op (to get loss value)\n",
    "            _, c = sess.run([optimizer, cost], feed_dict={x: batch_x,\n",
    "                                                          y: batch_y})\n",
    "            # Compute average loss\n",
    "            avg_cost += c / total_batch\n",
    "        # Display logs per epoch step\n",
    "        if epoch % display_step == 0:\n",
    "            print \"Epoch:\", '%04d' % (epoch+1), \"cost=\", \\\n",
    "                \"{:.9f}\".format(avg_cost)\n",
    "    print \"First Optimization Finished!\"\n",
    "\n",
    "    # Test model\n",
    "    correct_prediction = tf.equal(tf.argmax(pred, 1), tf.argmax(y, 1))\n",
    "    # Calculate accuracy\n",
    "    accuracy = tf.reduce_mean(tf.cast(correct_prediction, \"float\"))\n",
    "    print \"Accuracy:\", accuracy.eval({x: test_images, y: test_labels})\n",
    "\n",
    "    # Save model weights to disk\n",
    "    # tf.train.Saver.save(sess, save_path, global_step=None, \n",
    "    #                     latest_filename=None, meta_graph_suffix='meta', \n",
    "    #                     write_meta_graph=True, write_state=True)\n",
    "    save_path = saver.save(sess, model_path)\n",
    "    print \"Model saved in file: %s\" % save_path"
   ]
  },
  {
   "cell_type": "code",
   "execution_count": 11,
   "metadata": {
    "collapsed": false
   },
   "outputs": [
    {
     "name": "stdout",
     "output_type": "stream",
     "text": [
      "Starting 2nd session...\n",
      "Model restored from file: /home/chengming/TensorFlow-Examples/notebooks/4_Utils/model.ckpt\n",
      "Epoch: 0001 cost= 4390.139832290\n",
      "Epoch: 0002 cost= 3202.973835990\n",
      "Epoch: 0003 cost= 2354.944862804\n",
      "Epoch: 0004 cost= 1759.677807693\n",
      "Epoch: 0005 cost= 1306.321815287\n",
      "Epoch: 0006 cost= 1018.067773261\n",
      "Epoch: 0007 cost= 772.719040394\n",
      "Second Optimization Finished!\n",
      "Accuracy: 0.9375\n"
     ]
    }
   ],
   "source": [
    "# Running a new session\n",
    "print \"Starting 2nd session...\"\n",
    "gpu_options = tf.GPUOptions(per_process_gpu_memory_fraction=0.333)\n",
    "with tf.Session(config=tf.ConfigProto(gpu_options=gpu_options)) as sess:\n",
    "    # Initialize variables\n",
    "    sess.run(init)\n",
    "\n",
    "    # Restore model weights from previously saved model\n",
    "    # tf.train.Saver.restore(sess, save_path)\n",
    "    load_path = saver.restore(sess, model_path)\n",
    "    print \"Model restored from file: %s\" % save_path\n",
    "\n",
    "    # Resume training\n",
    "    for epoch in range(7):\n",
    "        avg_cost = 0.\n",
    "        #total_batch = int(mnist.train.num_examples / batch_size)\n",
    "        total_batch = int(train_images.shape[0] / batch_size)\n",
    "        start_idx = 0\n",
    "        # Loop over all batches\n",
    "        for i in range(total_batch):\n",
    "            #batch_x, batch_y = mnist.train.next_batch(batch_size)\n",
    "            batch_x = train_images[start_idx:start_idx+batch_size, :]\n",
    "            batch_y = train_labels[start_idx:start_idx+batch_size, :]\n",
    "            start_idx += batch_size\n",
    "            # Run optimization op (backprop) and cost op (to get loss value)\n",
    "            _, c = sess.run([optimizer, cost], feed_dict={x: batch_x,\n",
    "                                                          y: batch_y})\n",
    "            # Compute average loss\n",
    "            avg_cost += c / total_batch\n",
    "        # Display logs per epoch step\n",
    "        if epoch % display_step == 0:\n",
    "            print \"Epoch:\", '%04d' % (epoch + 1), \"cost=\", \\\n",
    "                \"{:.9f}\".format(avg_cost)\n",
    "    print \"Second Optimization Finished!\"\n",
    "\n",
    "    # Test model\n",
    "    correct_prediction = tf.equal(tf.argmax(pred, 1), tf.argmax(y, 1))\n",
    "    # Calculate accuracy\n",
    "    accuracy = tf.reduce_mean(tf.cast(correct_prediction, \"float\"))\n",
    "    print \"Accuracy:\", accuracy.eval({x: test_images, y: test_labels})"
   ]
  },
  {
   "cell_type": "code",
   "execution_count": null,
   "metadata": {
    "collapsed": true
   },
   "outputs": [],
   "source": []
  }
 ],
 "metadata": {
  "kernelspec": {
   "display_name": "Python 2",
   "language": "python",
   "name": "python2"
  },
  "language_info": {
   "codemirror_mode": {
    "name": "ipython",
    "version": 2
   },
   "file_extension": ".py",
   "mimetype": "text/x-python",
   "name": "python",
   "nbconvert_exporter": "python",
   "pygments_lexer": "ipython2",
   "version": "2.7.6"
  }
 },
 "nbformat": 4,
 "nbformat_minor": 0
}
